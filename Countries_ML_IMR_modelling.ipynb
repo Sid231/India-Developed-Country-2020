{
 "cells": [
  {
   "cell_type": "code",
   "execution_count": 0,
   "metadata": {
    "colab": {},
    "colab_type": "code",
    "id": "SDrs_8JZkLEE"
   },
   "outputs": [],
   "source": [
    "import pickle\n",
    "import sklearn\n",
    "import numpy as np\n",
    "import math\n",
    "#from xgboost import XGBRegressor\n",
    "from sklearn.ensemble import RandomForestRegressor\n",
    "from sklearn.model_selection import train_test_split\n",
    "from sklearn.model_selection import cross_val_score\n",
    "from sklearn.metrics import mean_squared_error\n",
    "from sklearn.metrics import r2_score\n",
    "from sklearn.model_selection import RandomizedSearchCV\n",
    "from sklearn.model_selection import GridSearchCV\n",
    "\n",
    "from pydrive.auth import GoogleAuth\n",
    "from pydrive.drive import GoogleDrive\n",
    "from google.colab import auth\n",
    "from oauth2client.client import GoogleCredentials"
   ]
  },
  {
   "cell_type": "code",
   "execution_count": 0,
   "metadata": {
    "colab": {},
    "colab_type": "code",
    "id": "qZw6_CZwQwkw"
   },
   "outputs": [],
   "source": [
    "import gzip\n",
    "import cPickle as pickle\n",
    "from google.colab import files"
   ]
  },
  {
   "cell_type": "code",
   "execution_count": 3,
   "metadata": {
    "colab": {
     "base_uri": "https://localhost:8080/",
     "height": 34
    },
    "colab_type": "code",
    "id": "vYyk2cixnnz6",
    "outputId": "ea737010-5ef4-45ad-c0c3-4bb265a48419"
   },
   "outputs": [
    {
     "name": "stdout",
     "output_type": "stream",
     "text": [
      "Drive already mounted at /content/gdrive; to attempt to forcibly remount, call drive.mount(\"/content/gdrive\", force_remount=True).\n"
     ]
    }
   ],
   "source": [
    "from google.colab import drive\n",
    "drive.mount('/content/gdrive')"
   ]
  },
  {
   "cell_type": "markdown",
   "metadata": {
    "colab_type": "text",
    "id": "VR9MICmX3Iio"
   },
   "source": [
    "Get the x and y values in the pickle **imr_x_y_countries_pickle** to be trained in the GPU in Google Colab"
   ]
  },
  {
   "cell_type": "code",
   "execution_count": 0,
   "metadata": {
    "colab": {},
    "colab_type": "code",
    "id": "6n9rAvIilR_5"
   },
   "outputs": [],
   "source": [
    "dbfile = open('/content/gdrive/My Drive/Massive Data Final Project/imr_x_y_countries_pickle', 'rb')      \n",
    "x_y_values_db = pickle.load(dbfile) \n",
    "#print x_y_values_db['x_val']\n",
    "x_val_array = x_y_values_db['x_val']\n",
    "y_val_array = x_y_values_db['y_val']\n",
    "dbfile.close() "
   ]
  },
  {
   "cell_type": "markdown",
   "metadata": {
    "colab_type": "text",
    "id": "TNX3lVOk3Iis"
   },
   "source": [
    "Load the **RandomForestRegressor model** and split the train and test sets using train_test_split function of sklearn. <br/>\n",
    "Here, we try the Random Forest. To find the model's quality, we use the **RMSE** (Root Mean Square Error) and the **R2** score. R2 is the proportion of variability that is explained by our model. It ranges from 0-1 for maximum proportion of variability explained"
   ]
  },
  {
   "cell_type": "code",
   "execution_count": 5,
   "metadata": {
    "colab": {
     "base_uri": "https://localhost:8080/",
     "height": 105
    },
    "colab_type": "code",
    "id": "SqU3mEhcl8qO",
    "outputId": "f1b22911-a3f7-431a-cdb1-36ce0dbf2e82"
   },
   "outputs": [
    {
     "name": "stderr",
     "output_type": "stream",
     "text": [
      "/usr/local/lib/python2.7/dist-packages/sklearn/ensemble/forest.py:246: FutureWarning: The default value of n_estimators will change from 10 in version 0.20 to 100 in 0.22.\n",
      "  \"10 in version 0.20 to 100 in 0.22.\", FutureWarning)\n"
     ]
    },
    {
     "name": "stdout",
     "output_type": "stream",
     "text": [
      "RMSE : 0.030921\n",
      "R2 score: 0.9\n"
     ]
    }
   ],
   "source": [
    "forest_model = RandomForestRegressor(random_state=21)\n",
    "train_X, test_X, train_y, test_y = train_test_split(x_val_array, y_val_array, test_size=0.25, random_state=21)\n",
    "rmse= np.sqrt(np.mean(-cross_val_score(forest_model, train_X, train_y,cv=5,  scoring='neg_mean_squared_error')))\n",
    "print(\"RMSE : %f\" % (rmse))\n",
    "r2_score1= np.mean(cross_val_score(forest_model, train_X, train_y,cv=5,  scoring='r2'))\n",
    "print(\"R2 score: %s\" % '{:.2}'.format(r2_score1))"
   ]
  },
  {
   "cell_type": "markdown",
   "metadata": {
    "colab_type": "text",
    "id": "epttfrp_3Iiw"
   },
   "source": [
    "We need the best parameters for our **RandomForestRegressor**. We try to find them using **RandomSearchCV** followed by **GridSearchCV**. RandomSearchCV helps to narrow down the number and range of parameters, which can then be tested using GridSearchCV. Here we print the best params for the model using RandomSearchCV"
   ]
  },
  {
   "cell_type": "code",
   "execution_count": 0,
   "metadata": {
    "colab": {
     "base_uri": "https://localhost:8080/",
     "height": 54
    },
    "colab_type": "code",
    "id": "BYMg41Nfoi_O",
    "outputId": "8c7cebe6-d7a1-495e-9d91-eee57d436fed"
   },
   "outputs": [
    {
     "name": "stdout",
     "output_type": "stream",
     "text": [
      "{'bootstrap': [True, False], 'min_samples_leaf': [1, 2, 4], 'n_estimators': [200, 400, 600, 800, 1000, 1200, 1400, 1600, 1800, 2000], 'min_samples_split': [2, 5, 10], 'max_features': ['auto', 'sqrt'], 'max_depth': [10, 20, 30, 40, 50, 60, 70, 80, 90, 100, 110, None]}\n"
     ]
    }
   ],
   "source": [
    "number_estimators = [int(x) for x in np.linspace(start = 200, stop = 2000, num = 10)]\n",
    "max_features = ['auto', 'sqrt']\n",
    "max_depth = [int(x) for x in np.linspace(10, 110, num = 11)]\n",
    "max_depth.append(None)\n",
    "min_samples_split = [2, 5, 10]\n",
    "min_samples_leaf = [1, 2, 4]\n",
    "bootstrap = [True, False]\n",
    "random_grid = {'n_estimators': number_estimators,\n",
    "               'max_features': max_features,\n",
    "               'max_depth': max_depth,\n",
    "               'min_samples_split': min_samples_split,\n",
    "               'min_samples_leaf': min_samples_leaf,\n",
    "               'bootstrap': bootstrap}\n",
    "print(random_grid)"
   ]
  },
  {
   "cell_type": "code",
   "execution_count": 0,
   "metadata": {
    "colab": {
     "base_uri": "https://localhost:8080/",
     "height": 88
    },
    "colab_type": "code",
    "id": "jLmEAgBYosx1",
    "outputId": "f8bce0ce-da60-4ace-c19f-5d2bab969bad"
   },
   "outputs": [
    {
     "name": "stderr",
     "output_type": "stream",
     "text": [
      "/usr/local/lib/python2.7/dist-packages/sklearn/externals/joblib/externals/loky/process_executor.py:706: UserWarning: A worker stopped while some jobs were given to the executor. This can be caused by a too short worker timeout or by a memory leak.\n",
      "  \"timeout or by a memory leak.\", UserWarning\n"
     ]
    },
    {
     "name": "stdout",
     "output_type": "stream",
     "text": [
      "{'bootstrap': True, 'min_samples_leaf': 1, 'n_estimators': 400, 'max_features': 'auto', 'min_samples_split': 2, 'max_depth': None}\n"
     ]
    }
   ],
   "source": [
    "forest_model = RandomForestRegressor(random_state=21)\n",
    "rf_random = RandomizedSearchCV(estimator = forest_model, param_distributions = random_grid, \n",
    "                          cv = 5, n_jobs = -1,n_iter = 20, verbose = 0)\n",
    "rf_random.fit(train_X, train_y)\n",
    "print(rf_random.best_params_)"
   ]
  },
  {
   "cell_type": "markdown",
   "metadata": {
    "colab_type": "text",
    "id": "ijUNrEL23Ii2"
   },
   "source": [
    "Random search helps to narrow down the range for all the hyperparameters. This is then followed by **GridSearch CV** where we can test all the combinations of the parameters unlike Random search. Here we find best params for the model using GridSearchCV"
   ]
  },
  {
   "cell_type": "code",
   "execution_count": 0,
   "metadata": {
    "colab": {
     "base_uri": "https://localhost:8080/",
     "height": 34
    },
    "colab_type": "code",
    "id": "_9dHAeEFovl3",
    "outputId": "e05a165e-20d9-4211-f09a-868d67109a78"
   },
   "outputs": [
    {
     "name": "stdout",
     "output_type": "stream",
     "text": [
      "{'bootstrap': False, 'min_samples_leaf': 1, 'n_estimators': 600, 'min_samples_split': 2, 'max_features': 'sqrt', 'max_depth': 20}\n"
     ]
    }
   ],
   "source": [
    "param_grid = {'max_depth': [10,20,30,40,50],\n",
    "              'max_features': ['sqrt'],\n",
    "              'min_samples_leaf': [1, 3, 4, 5],\n",
    "              'min_samples_split': [2, 4, 8],\n",
    "              'n_estimators': [200, 400, 600, 800],\n",
    "             'bootstrap': [False, True]}\n",
    "# Create a basic model\n",
    "rf = RandomForestRegressor(random_state=21)\n",
    "# Instantiate the grid search model\n",
    "rf_grid = GridSearchCV(estimator = rf, param_grid = param_grid, \n",
    "                          cv = 5, n_jobs = -1, verbose = 0)\n",
    "rf_grid.fit(train_X, train_y)\n",
    "print(rf_grid.best_params_)"
   ]
  },
  {
   "cell_type": "markdown",
   "metadata": {
    "colab_type": "text",
    "id": "XnPPv7FD3Ii6"
   },
   "source": [
    "Print the **RMSE** and **R2 score** of the Random Forest Regressor model to predict **IMR**"
   ]
  },
  {
   "cell_type": "code",
   "execution_count": 6,
   "metadata": {
    "colab": {
     "base_uri": "https://localhost:8080/",
     "height": 51
    },
    "colab_type": "code",
    "id": "8XQut_dermMi",
    "outputId": "1dda3bd0-02e7-4028-dd2f-8c4a7cb3f94b"
   },
   "outputs": [
    {
     "name": "stdout",
     "output_type": "stream",
     "text": [
      "RMSE : 0.024873\n",
      "R2 score: 0.94\n"
     ]
    }
   ],
   "source": [
    "rf_cv_random=RandomForestRegressor(random_state=21,n_estimators= 600, min_samples_split= 2, min_samples_leaf= 1, max_features= 'sqrt', max_depth= 20, bootstrap= False)\n",
    "rf_cv_random.fit(train_X,train_y )\n",
    "predictions=rf_cv_random.predict(test_X)\n",
    "rmse3 = np.sqrt(mean_squared_error(test_y, predictions))\n",
    "print(\"RMSE : %f\" % (rmse3))\n",
    "r23= r2_score(test_y,predictions)\n",
    "print(\"R2 score: %s\" % '{:.2}'.format(r23))"
   ]
  },
  {
   "cell_type": "markdown",
   "metadata": {
    "colab_type": "text",
    "id": "xLPd27G_3bcr"
   },
   "source": [
    "Print the error and the accuracy of the model"
   ]
  },
  {
   "cell_type": "code",
   "execution_count": 0,
   "metadata": {
    "colab": {},
    "colab_type": "code",
    "id": "tSCJl-B53THn"
   },
   "outputs": [],
   "source": [
    "imr_errors = math.fabs(np.mean(predictions/test_y - 1))\n",
    "imr_mape = 100 * (imr_errors)\n",
    "imr_accuracy = 100 - (imr_mape)"
   ]
  },
  {
   "cell_type": "code",
   "execution_count": 8,
   "metadata": {
    "colab": {
     "base_uri": "https://localhost:8080/",
     "height": 34
    },
    "colab_type": "code",
    "id": "D8rGZaVs3TRV",
    "outputId": "05f97020-bdfe-4a08-aa90-9ea72a7f60d9"
   },
   "outputs": [
    {
     "data": {
      "text/plain": [
       "99.66394063561928"
      ]
     },
     "execution_count": 8,
     "metadata": {
      "tags": []
     },
     "output_type": "execute_result"
    }
   ],
   "source": [
    "imr_accuracy"
   ]
  },
  {
   "cell_type": "markdown",
   "metadata": {
    "colab_type": "text",
    "id": "wJqbULFc3Ii-"
   },
   "source": [
    "Save the states and the model in the **imr_randomForestRegressor_pickle** pickle and upload in gdrive"
   ]
  },
  {
   "cell_type": "code",
   "execution_count": 0,
   "metadata": {
    "colab": {},
    "colab_type": "code",
    "id": "Nq9lL8ec6Txd"
   },
   "outputs": [],
   "source": [
    "imr_randomForestRegressor_db = {} \n",
    "imr_randomForestRegressor_db['forest_model'] = forest_model\n",
    "imr_randomForestRegressor_db['rf_random'] = rf_random\n",
    "imr_randomForestRegressor_db['rf_grid'] = rf_grid\n",
    "imr_randomForestRegressor_db['rf_cv_random'] = rf_cv_random\n",
    "imr_randomForestRegressor_db['predictions'] = predictions\n",
    "imr_randomForestRegressor_db['rmse3'] = rmse3\n",
    "imr_randomForestRegressor_db['r23'] = r23"
   ]
  },
  {
   "cell_type": "code",
   "execution_count": 0,
   "metadata": {
    "colab": {},
    "colab_type": "code",
    "id": "9nQ66A6d7K44"
   },
   "outputs": [],
   "source": [
    "imr_randomForestRegressor_dbfile = open('imr_randomForestRegressor_pickle', 'ab') \n",
    "# source, destination \n",
    "pickle.dump(imr_randomForestRegressor_db, imr_randomForestRegressor_dbfile)                      \n",
    "imr_randomForestRegressor_dbfile.close() "
   ]
  },
  {
   "cell_type": "code",
   "execution_count": 0,
   "metadata": {
    "colab": {
     "base_uri": "https://localhost:8080/",
     "height": 34
    },
    "colab_type": "code",
    "id": "P_MagHzwRwtO",
    "outputId": "a967db38-542e-4631-c212-f7414eba5d8b"
   },
   "outputs": [
    {
     "name": "stdout",
     "output_type": "stream",
     "text": [
      "Uploaded file with ID 1e6g-hIO1ZavNqCaMW7aqj-45duE4CYSc\n"
     ]
    }
   ],
   "source": [
    "# Authenticate and create the PyDrive client.\n",
    "# This only needs to be done once in a notebook.\n",
    "auth.authenticate_user()\n",
    "gauth = GoogleAuth()\n",
    "gauth.credentials = GoogleCredentials.get_application_default()\n",
    "gdrive = GoogleDrive(gauth)\n",
    "\n",
    "# Create & upload a file.\n",
    "uploaded = gdrive.CreateFile({'title': 'imr_randomForestRegressor_pickle'})\n",
    "uploaded.SetContentFile('imr_randomForestRegressor_pickle')\n",
    "uploaded.Upload()\n",
    "print('Uploaded file with ID {}'.format(uploaded.get('id')))"
   ]
  }
 ],
 "metadata": {
  "accelerator": "GPU",
  "colab": {
   "collapsed_sections": [],
   "name": "Countries_ML_IMR_modelling.ipynb",
   "provenance": [],
   "version": "0.3.2"
  },
  "kernelspec": {
   "display_name": "Python 2",
   "language": "python",
   "name": "python2"
  },
  "language_info": {
   "codemirror_mode": {
    "name": "ipython",
    "version": 2
   },
   "file_extension": ".py",
   "mimetype": "text/x-python",
   "name": "python",
   "nbconvert_exporter": "python",
   "pygments_lexer": "ipython2",
   "version": "2.7.15"
  }
 },
 "nbformat": 4,
 "nbformat_minor": 1
}
